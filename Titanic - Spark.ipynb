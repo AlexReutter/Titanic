{
 "cells": [
  {
   "cell_type": "code",
   "execution_count": 1,
   "metadata": {
    "collapsed": false
   },
   "outputs": [],
   "source": [
    "import numpy as np\n",
    "import pandas as pd\n",
    "from sklearn.ensemble import RandomForestClassifier\n",
    "import pyspark.sql.functions\n",
    "from pyspark.sql.functions import array\n"
   ]
  },
  {
   "cell_type": "code",
   "execution_count": 2,
   "metadata": {
    "collapsed": false
   },
   "outputs": [],
   "source": [
    "#Read the train and test data into pandas data framesfrom pyspark.sql import SQLContext\n",
    "sqlContext = SQLContext(sc)\n",
    "\n",
    "# This function includes credentials to your Object Storage.\n",
    "# You might want to remove those credentials before you share your notebook.\n",
    "def set_hadoop_config_with_credentials_f2ced6cdb4894c42945223d461f16d59(name):\n",
    "    \"\"\"This function sets the Hadoop configuration so it is possible to\n",
    "    access data from Bluemix Object Storage V3 using Spark\"\"\"\n",
    "\n",
    "    prefix = 'fs.swift.service.' + name\n",
    "    hconf = sc._jsc.hadoopConfiguration()\n",
    "    hconf.set(prefix + '.auth.url', 'https://identity.open.softlayer.com'+'/v3/auth/tokens')\n",
    "    hconf.set(prefix + '.auth.endpoint.prefix', 'endpoints')\n",
    "    hconf.set(prefix + '.tenant', '5d9314bd83c8420a8be5abb3608958bc')\n",
    "    hconf.set(prefix + '.username', '5be67aca97714d2781f516dfdd48a567')\n",
    "    hconf.set(prefix + '.password', 'gtdtV_)A5^rYuev9')\n",
    "    hconf.setInt(prefix + '.http.port', 8080)\n",
    "    hconf.set(prefix + '.region', 'dallas')\n",
    "    hconf.setBoolean(prefix + '.public', True)\n",
    "\n",
    "# you can choose any name\n",
    "name = 'keystone'\n",
    "set_hadoop_config_with_credentials_f2ced6cdb4894c42945223d461f16d59(name)\n",
    "\n",
    "train = sqlContext.read.format('com.databricks.spark.csv')\\\n",
    "    .options(header='true', inferschema='true')\\\n",
    "    .load(\"swift://notebooks.\" + name + \"/train.csv\")\n",
    "\n",
    "test = sqlContext.read.format('com.databricks.spark.csv')\\\n",
    "    .options(header='true', inferschema='true')\\\n",
    "    .load(\"swift://notebooks.\" + name + \"/test.csv\")\n"
   ]
  },
  {
   "cell_type": "code",
   "execution_count": 3,
   "metadata": {
    "collapsed": false
   },
   "outputs": [
    {
     "data": {
      "text/plain": [
       "Row(PassengerId=1, Survived=0, Pclass=3, Name=u'Braund, Mr. Owen Harris', Sex=u'male', Age=22.0, SibSp=1, Parch=0, Ticket=u'A/5 21171', Fare=7.25, Cabin=u'', Embarked=u'S')"
      ]
     },
     "execution_count": 3,
     "metadata": {},
     "output_type": "execute_result"
    }
   ],
   "source": [
    "# Difference between Spark dataframes and Pandas; you always need to show() in Spark\n",
    "train.head()"
   ]
  },
  {
   "cell_type": "code",
   "execution_count": 4,
   "metadata": {
    "collapsed": false
   },
   "outputs": [
    {
     "name": "stdout",
     "output_type": "stream",
     "text": [
      "+-----------+--------+------+--------------------+------+----+-----+-----+----------------+-------+-----+--------+\n",
      "|PassengerId|Survived|Pclass|                Name|   Sex| Age|SibSp|Parch|          Ticket|   Fare|Cabin|Embarked|\n",
      "+-----------+--------+------+--------------------+------+----+-----+-----+----------------+-------+-----+--------+\n",
      "|          1|       0|     3|Braund, Mr. Owen ...|  male|22.0|    1|    0|       A/5 21171|   7.25|     |       S|\n",
      "|          2|       1|     1|Cumings, Mrs. Joh...|female|38.0|    1|    0|        PC 17599|71.2833|  C85|       C|\n",
      "|          3|       1|     3|Heikkinen, Miss. ...|female|26.0|    0|    0|STON/O2. 3101282|  7.925|     |       S|\n",
      "|          4|       1|     1|Futrelle, Mrs. Ja...|female|35.0|    1|    0|          113803|   53.1| C123|       S|\n",
      "|          5|       0|     3|Allen, Mr. Willia...|  male|35.0|    0|    0|          373450|   8.05|     |       S|\n",
      "|          6|       0|     3|    Moran, Mr. James|  male|null|    0|    0|          330877| 8.4583|     |       Q|\n",
      "|          7|       0|     1|McCarthy, Mr. Tim...|  male|54.0|    0|    0|           17463|51.8625|  E46|       S|\n",
      "|          8|       0|     3|Palsson, Master. ...|  male| 2.0|    3|    1|          349909| 21.075|     |       S|\n",
      "|          9|       1|     3|Johnson, Mrs. Osc...|female|27.0|    0|    2|          347742|11.1333|     |       S|\n",
      "|         10|       1|     2|Nasser, Mrs. Nich...|female|14.0|    1|    0|          237736|30.0708|     |       C|\n",
      "+-----------+--------+------+--------------------+------+----+-----+-----+----------------+-------+-----+--------+\n",
      "only showing top 10 rows\n",
      "\n"
     ]
    }
   ],
   "source": [
    "train.show(10)"
   ]
  },
  {
   "cell_type": "code",
   "execution_count": 5,
   "metadata": {
    "collapsed": false
   },
   "outputs": [
    {
     "name": "stdout",
     "output_type": "stream",
     "text": [
      "+-------+-----------------+-------------------+------------------+------------------+------------------+-------------------+------------------+\n",
      "|summary|      PassengerId|           Survived|            Pclass|               Age|             SibSp|              Parch|              Fare|\n",
      "+-------+-----------------+-------------------+------------------+------------------+------------------+-------------------+------------------+\n",
      "|  count|              891|                891|               891|               714|               891|                891|               891|\n",
      "|   mean|            446.0| 0.3838383838383838| 2.308641975308642| 29.69911764705882|0.5230078563411896|0.38159371492704824|32.204207968574615|\n",
      "| stddev|257.3538420152301|0.48659245426485737|0.8360712409770491|14.526497332334039| 1.102743432293432| 0.8060572211299486|  49.6934285971809|\n",
      "|    min|                1|                  0|                 1|              0.42|                 0|                  0|               0.0|\n",
      "|    max|              891|                  1|                 3|              80.0|                 8|                  6|          512.3292|\n",
      "+-------+-----------------+-------------------+------------------+------------------+------------------+-------------------+------------------+\n",
      "\n"
     ]
    }
   ],
   "source": [
    "# The describe() function in SparkSQL is not as useful as the one in Pandas.  I can't get summary stats for non-numeric fields \n",
    "train.describe().show()"
   ]
  },
  {
   "cell_type": "code",
   "execution_count": 6,
   "metadata": {
    "collapsed": false
   },
   "outputs": [
    {
     "data": {
      "text/plain": [
       "[('PassengerId', 'int'),\n",
       " ('Survived', 'int'),\n",
       " ('Pclass', 'int'),\n",
       " ('Name', 'string'),\n",
       " ('Sex', 'string'),\n",
       " ('Age', 'double'),\n",
       " ('SibSp', 'int'),\n",
       " ('Parch', 'int'),\n",
       " ('Ticket', 'string'),\n",
       " ('Fare', 'double'),\n",
       " ('Cabin', 'string'),\n",
       " ('Embarked', 'string')]"
      ]
     },
     "execution_count": 6,
     "metadata": {},
     "output_type": "execute_result"
    }
   ],
   "source": [
    "train.dtypes"
   ]
  },
  {
   "cell_type": "code",
   "execution_count": 7,
   "metadata": {
    "collapsed": false
   },
   "outputs": [
    {
     "name": "stdout",
     "output_type": "stream",
     "text": [
      "+------+------+------------------+\n",
      "|   Sex|Pclass|               Age|\n",
      "+------+------+------------------+\n",
      "|  male|     1| 41.28138613861386|\n",
      "|  male|     2| 30.74070707070707|\n",
      "|  male|     3|26.507588932806325|\n",
      "|female|     1| 34.61176470588235|\n",
      "|female|     2|28.722972972972972|\n",
      "|female|     3|             21.75|\n",
      "+------+------+------------------+\n",
      "\n"
     ]
    }
   ],
   "source": [
    "#Replace missing values in Age\n",
    "##Compute the average age for passengers by sex and class\n",
    "train_aggSexPclass = train.groupby(['Sex','Pclass']).agg({\"Age\":\"mean\"})\n",
    "train_aggSexPclass = train_aggSexPclass.withColumn('Age', train_aggSexPclass['avg(Age)']).drop('avg(Age)')\n",
    "train_aggSexPclass.show(10)\n"
   ]
  },
  {
   "cell_type": "code",
   "execution_count": 8,
   "metadata": {
    "collapsed": false
   },
   "outputs": [
    {
     "name": "stdout",
     "output_type": "stream",
     "text": [
      "+-----------+--------+------+--------------------+------+----+-----+-----+----------------+-------+-----+--------+\n",
      "|PassengerId|Survived|Pclass|                Name|   Sex| Age|SibSp|Parch|          Ticket|   Fare|Cabin|Embarked|\n",
      "+-----------+--------+------+--------------------+------+----+-----+-----+----------------+-------+-----+--------+\n",
      "|          1|       0|     3|Braund, Mr. Owen ...|  male|22.0|    1|    0|       A/5 21171|   7.25|     |       S|\n",
      "|          2|       1|     1|Cumings, Mrs. Joh...|female|38.0|    1|    0|        PC 17599|71.2833|  C85|       C|\n",
      "|          3|       1|     3|Heikkinen, Miss. ...|female|26.0|    0|    0|STON/O2. 3101282|  7.925|     |       S|\n",
      "|          4|       1|     1|Futrelle, Mrs. Ja...|female|35.0|    1|    0|          113803|   53.1| C123|       S|\n",
      "|          5|       0|     3|Allen, Mr. Willia...|  male|35.0|    0|    0|          373450|   8.05|     |       S|\n",
      "|          7|       0|     1|McCarthy, Mr. Tim...|  male|54.0|    0|    0|           17463|51.8625|  E46|       S|\n",
      "|          8|       0|     3|Palsson, Master. ...|  male| 2.0|    3|    1|          349909| 21.075|     |       S|\n",
      "|          9|       1|     3|Johnson, Mrs. Osc...|female|27.0|    0|    2|          347742|11.1333|     |       S|\n",
      "|         10|       1|     2|Nasser, Mrs. Nich...|female|14.0|    1|    0|          237736|30.0708|     |       C|\n",
      "|         11|       1|     3|Sandstrom, Miss. ...|female| 4.0|    1|    1|         PP 9549|   16.7|   G6|       S|\n",
      "+-----------+--------+------+--------------------+------+----+-----+-----+----------------+-------+-----+--------+\n",
      "only showing top 10 rows\n",
      "\n"
     ]
    }
   ],
   "source": [
    "# Merge the mean Age values by Sex and Pclass with the primary dataframe\n",
    "# First, merge the mean values into a dataframe with the original records that had null values\n",
    "train_merge = train.where(train.Age.isNull()).drop('Age').join(train_aggSexPclass, ['Sex','Pclass'], 'inner')\n",
    "# Union with the original records \n",
    "train_ready = train.where(train.Age.isNotNull()).unionAll(train_merge)\n",
    "train_ready.show(10)\n"
   ]
  },
  {
   "cell_type": "code",
   "execution_count": 9,
   "metadata": {
    "collapsed": false
   },
   "outputs": [
    {
     "data": {
      "text/plain": [
       "[('PassengerId', 'string'),\n",
       " ('Survived', 'int'),\n",
       " ('Pclass', 'int'),\n",
       " ('Name', 'string'),\n",
       " ('Sex', 'string'),\n",
       " ('Age', 'double'),\n",
       " ('SibSp', 'int'),\n",
       " ('Parch', 'string'),\n",
       " ('Ticket', 'string'),\n",
       " ('Fare', 'string'),\n",
       " ('Cabin', 'string'),\n",
       " ('Embarked', 'string')]"
      ]
     },
     "execution_count": 9,
     "metadata": {},
     "output_type": "execute_result"
    }
   ],
   "source": [
    "train_ready.dtypes"
   ]
  },
  {
   "cell_type": "code",
   "execution_count": 10,
   "metadata": {
    "collapsed": false
   },
   "outputs": [],
   "source": [
    "# Train a RandomForest model.\n",
    "from pyspark.ml.classification import RandomForestClassifier\n",
    "estimator_rf = RandomForestClassifier(labelCol=\"indexed\", numTrees=3, maxDepth=2, seed=42)\n"
   ]
  },
  {
   "cell_type": "code",
   "execution_count": 12,
   "metadata": {
    "collapsed": false
   },
   "outputs": [],
   "source": [
    "from pyspark.ml import Pipeline\n",
    "from pyspark.ml.feature import VectorAssembler\n",
    "from pyspark.ml.feature import StringIndexer\n",
    "vecAssembler = VectorAssembler(inputCols=['Age','Pclass','SibSp'], outputCol=\"features\")\n",
    "stringIndexer = StringIndexer(inputCol=\"Survived\", outputCol=\"indexed\")\n",
    "pipeline = Pipeline(stages=[vecAssembler, stringIndexer, estimator_rf])\n",
    "model = pipeline.fit(train_ready)\n"
   ]
  },
  {
   "cell_type": "code",
   "execution_count": null,
   "metadata": {
    "collapsed": false
   },
   "outputs": [],
   "source": [
    "# Some testing of VectorAssembler to see if I was using it correctly\n",
    "#trainingData = vecAssembler.transform(train_ready)\n",
    "#trainingData.dtypes"
   ]
  },
  {
   "cell_type": "code",
   "execution_count": null,
   "metadata": {
    "collapsed": false
   },
   "outputs": [],
   "source": [
    "###  SUCCESS!  Now I'd like to turn the whole process from start to finish into a pipeline in order to apply the transformations to the test set\n",
    "###  however, it looks like join can't be pipelined\n",
    "\n"
   ]
  },
  {
   "cell_type": "code",
   "execution_count": 13,
   "metadata": {
    "collapsed": false
   },
   "outputs": [
    {
     "name": "stdout",
     "output_type": "stream",
     "text": [
      "+-----------+------+--------------------+------+----+-----+-----+---------+-------+-----+--------+\n",
      "|PassengerId|Pclass|                Name|   Sex| Age|SibSp|Parch|   Ticket|   Fare|Cabin|Embarked|\n",
      "+-----------+------+--------------------+------+----+-----+-----+---------+-------+-----+--------+\n",
      "|        892|     3|    Kelly, Mr. James|  male|34.5|    0|    0|   330911| 7.8292|     |       Q|\n",
      "|        893|     3|Wilkes, Mrs. Jame...|female|47.0|    1|    0|   363272|    7.0|     |       S|\n",
      "|        894|     2|Myles, Mr. Thomas...|  male|62.0|    0|    0|   240276| 9.6875|     |       Q|\n",
      "|        895|     3|    Wirz, Mr. Albert|  male|27.0|    0|    0|   315154| 8.6625|     |       S|\n",
      "|        896|     3|Hirvonen, Mrs. Al...|female|22.0|    1|    1|  3101298|12.2875|     |       S|\n",
      "|        897|     3|Svensson, Mr. Joh...|  male|14.0|    0|    0|     7538|  9.225|     |       S|\n",
      "|        898|     3|Connolly, Miss. Kate|female|30.0|    0|    0|   330972| 7.6292|     |       Q|\n",
      "|        899|     2|Caldwell, Mr. Alb...|  male|26.0|    1|    1|   248738|   29.0|     |       S|\n",
      "|        900|     3|Abrahim, Mrs. Jos...|female|18.0|    0|    0|     2657| 7.2292|     |       C|\n",
      "|        901|     3|Davies, Mr. John ...|  male|21.0|    2|    0|A/4 48871|  24.15|     |       S|\n",
      "+-----------+------+--------------------+------+----+-----+-----+---------+-------+-----+--------+\n",
      "only showing top 10 rows\n",
      "\n"
     ]
    }
   ],
   "source": [
    "# Merge the mean Age values by Sex and Pclass with the test dataframe\n",
    "#test_merge = test.join(train_aggSexPclass, ['Sex','Pclass'], 'inner')\n",
    "# Replace the missing values of Age with Age_Mean, then drop Age_Mean\n",
    "#test_ready = test_merge.where(test_merge.Age.isNotNull()).unionAll(test_merge.where(test_merge.Age.isNull()).withColumn('Age',test_merge.Age_Mean)).drop('Age_Mean')\n",
    "\n",
    "# Merge the mean Age values by Sex and Pclass with the primary dataframe\n",
    "# First, merge the mean values into a dataframe with the original records that had null values\n",
    "test_merge = test.where(test.Age.isNull()).drop('Age').join(train_aggSexPclass, ['Sex','Pclass'], 'inner')\n",
    "# Union with the original records \n",
    "test_ready = test.where(test.Age.isNotNull()).unionAll(test_merge)\n",
    "test_ready.show(10)\n"
   ]
  },
  {
   "cell_type": "code",
   "execution_count": 14,
   "metadata": {
    "collapsed": false
   },
   "outputs": [
    {
     "name": "stdout",
     "output_type": "stream",
     "text": [
      "+-----------+----------+\n",
      "|PassengerId|prediction|\n",
      "+-----------+----------+\n",
      "|        892|       0.0|\n",
      "|        893|       0.0|\n",
      "|        894|       0.0|\n",
      "|        895|       0.0|\n",
      "|        896|       0.0|\n",
      "|        897|       0.0|\n",
      "|        898|       0.0|\n",
      "|        899|       0.0|\n",
      "|        900|       0.0|\n",
      "|        901|       0.0|\n",
      "|        903|       0.0|\n",
      "|        904|       0.0|\n",
      "|        905|       0.0|\n",
      "|        906|       0.0|\n",
      "|        907|       0.0|\n",
      "|        908|       0.0|\n",
      "|        909|       0.0|\n",
      "|        910|       0.0|\n",
      "|        911|       0.0|\n",
      "|        912|       0.0|\n",
      "+-----------+----------+\n",
      "only showing top 20 rows\n",
      "\n"
     ]
    }
   ],
   "source": [
    "prediction = model.transform(test_ready)\n",
    "prediction.select('PassengerId','prediction').show()"
   ]
  },
  {
   "cell_type": "code",
   "execution_count": null,
   "metadata": {
    "collapsed": true
   },
   "outputs": [],
   "source": []
  },
  {
   "cell_type": "code",
   "execution_count": 52,
   "metadata": {
    "collapsed": false
   },
   "outputs": [
    {
     "name": "stdout",
     "output_type": "stream",
     "text": [
      "+----+------+-----------+--------+--------------------+----+-----+-----+-----------+-------+-----------+--------+------------------+-------+\n",
      "| Sex|Pclass|PassengerId|Survived|                Name| Age|SibSp|Parch|     Ticket|   Fare|      Cabin|Embarked|          features|indexed|\n",
      "+----+------+-----------+--------+--------------------+----+-----+-----+-----------+-------+-----------+--------+------------------+-------+\n",
      "|male|     1|          7|       0|McCarthy, Mr. Tim...|54.0|    0|    0|      17463|51.8625|        E46|       S|[54.0,1.0,0.0,0.0]|    0.0|\n",
      "|male|     1|         24|       1|Sloper, Mr. Willi...|28.0|    0|    0|     113788|   35.5|         A6|       S|[28.0,1.0,0.0,0.0]|    1.0|\n",
      "|male|     1|         28|       0|Fortune, Mr. Char...|19.0|    3|    2|      19950|  263.0|C23 C25 C27|       S|[19.0,1.0,3.0,2.0]|    0.0|\n",
      "|male|     1|         31|       0|Uruchurtu, Don. M...|40.0|    0|    0|   PC 17601|27.7208|           |       C|[40.0,1.0,0.0,0.0]|    0.0|\n",
      "|male|     1|         35|       0|Meyer, Mr. Edgar ...|28.0|    1|    0|   PC 17604|82.1708|           |       C|[28.0,1.0,1.0,0.0]|    0.0|\n",
      "|male|     1|         36|       0|Holverson, Mr. Al...|42.0|    1|    0|     113789|   52.0|           |       S|[42.0,1.0,1.0,0.0]|    0.0|\n",
      "|male|     1|         55|       0|Ostby, Mr. Engelh...|65.0|    0|    1|     113509|61.9792|        B30|       C|[65.0,1.0,0.0,1.0]|    0.0|\n",
      "|male|     1|         63|       0|Harris, Mr. Henry...|45.0|    1|    0|      36973| 83.475|        C83|       S|[45.0,1.0,1.0,0.0]|    0.0|\n",
      "|male|     1|         84|       0|Carrau, Mr. Franc...|28.0|    0|    0|     113059|   47.1|           |       S|[28.0,1.0,0.0,0.0]|    0.0|\n",
      "|male|     1|         93|       0|Chaffee, Mr. Herb...|46.0|    1|    0|W.E.P. 5734| 61.175|        E31|       S|[46.0,1.0,1.0,0.0]|    0.0|\n",
      "+----+------+-----------+--------+--------------------+----+-----+-----+-----------+-------+-----------+--------+------------------+-------+\n",
      "only showing top 10 rows\n",
      "\n"
     ]
    }
   ],
   "source": [
    "# Hey, pipelines can also be used just for transformations, though it's a little clunky\n",
    "pipe2 = Pipeline(stages=[vecAssembler, stringIndexer])\n",
    "model2 = pipe2.fit(train_ready)\n",
    "pred2 = model2.transform(train_ready)\n",
    "pred2.show(10)"
   ]
  }
 ],
 "metadata": {
  "kernelspec": {
   "display_name": "Python 2",
   "language": "python",
   "name": "python2"
  },
  "language_info": {
   "codemirror_mode": {
    "name": "ipython",
    "version": 2
   },
   "file_extension": ".py",
   "mimetype": "text/x-python",
   "name": "python",
   "nbconvert_exporter": "python",
   "pygments_lexer": "ipython2",
   "version": "2.7.11"
  }
 },
 "nbformat": 4,
 "nbformat_minor": 0
}